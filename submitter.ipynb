{
 "cells": [
  {
   "cell_type": "code",
   "execution_count": 2,
   "metadata": {},
   "outputs": [],
   "source": [
    "import awswrangler as wr\n",
    "import os\n",
    "import pandas as pd"
   ]
  },
  {
   "cell_type": "markdown",
   "metadata": {},
   "source": [
    "## Pipeline parameters"
   ]
  },
  {
   "cell_type": "code",
   "execution_count": 3,
   "metadata": {},
   "outputs": [],
   "source": [
    "pipeline_output_path = \"s3://genomics-workflow-core/Results/GenomeMining\"\n",
    "project = \"IMG\"\n",
    "prefix = \"20220707\"\n",
    "seedfile_name = \"test_seedfile.csv\"\n",
    "\n",
    "input_s3_path = \"s3://maf-versioned/GenomeMining/Genomes/IMG/\"\n",
    "file_extension = \"tar.gz\"\n",
    "\n",
    "seedfile = os.path.join(pipeline_output_path, project, prefix, seedfile_name)"
   ]
  },
  {
   "cell_type": "code",
   "execution_count": 4,
   "metadata": {},
   "outputs": [],
   "source": [
    "file_paths = wr.s3.list_objects(input_s3_path, file_extension)"
   ]
  },
  {
   "cell_type": "code",
   "execution_count": 5,
   "metadata": {},
   "outputs": [
    {
     "data": {
      "text/plain": [
       "78357"
      ]
     },
     "execution_count": 5,
     "metadata": {},
     "output_type": "execute_result"
    }
   ],
   "source": [
    "len(file_paths)"
   ]
  },
  {
   "cell_type": "code",
   "execution_count": 6,
   "metadata": {},
   "outputs": [
    {
     "data": {
      "text/plain": [
       "['s3://maf-versioned/GenomeMining/Genomes/IMG/2022827000.tar.gz',\n",
       " 's3://maf-versioned/GenomeMining/Genomes/IMG/2040502012.tar.gz',\n",
       " 's3://maf-versioned/GenomeMining/Genomes/IMG/2140918011.tar.gz',\n",
       " 's3://maf-versioned/GenomeMining/Genomes/IMG/2228664006.tar.gz',\n",
       " 's3://maf-versioned/GenomeMining/Genomes/IMG/2228664007.tar.gz']"
      ]
     },
     "execution_count": 6,
     "metadata": {},
     "output_type": "execute_result"
    }
   ],
   "source": [
    "file_paths_test = file_paths[:5]\n",
    "file_paths_test"
   ]
  },
  {
   "cell_type": "code",
   "execution_count": 7,
   "metadata": {},
   "outputs": [
    {
     "data": {
      "text/plain": [
       "{'paths': ['s3://genomics-workflow-core/Results/GenomeMining/IMG/20220707/test_seedfile.csv'],\n",
       " 'partitions_values': {}}"
      ]
     },
     "execution_count": 7,
     "metadata": {},
     "output_type": "execute_result"
    }
   ],
   "source": [
    "seedfile_df = pd.DataFrame({\n",
    "\"genome_id\" : [os.path.basename(filename).replace(\".tar.gz\",\"\") for filename in file_paths_test],\n",
    "\"genome_path\" : file_paths_test\n",
    "})\n",
    "\n",
    "wr.s3.to_csv(df=seedfile_df, path=seedfile, index=False)"
   ]
  },
  {
   "cell_type": "code",
   "execution_count": null,
   "metadata": {},
   "outputs": [],
   "source": []
  }
 ],
 "metadata": {
  "kernelspec": {
   "display_name": "Python 3.7.6 ('ninjamap')",
   "language": "python",
   "name": "python3"
  },
  "language_info": {
   "codemirror_mode": {
    "name": "ipython",
    "version": 3
   },
   "file_extension": ".py",
   "mimetype": "text/x-python",
   "name": "python",
   "nbconvert_exporter": "python",
   "pygments_lexer": "ipython3",
   "version": "3.7.6"
  },
  "orig_nbformat": 4,
  "vscode": {
   "interpreter": {
    "hash": "bd4defac969a79ecc793d71ba9ba8c28a86ddf365d5c417e3d94d6b92e926fbc"
   }
  }
 },
 "nbformat": 4,
 "nbformat_minor": 2
}
