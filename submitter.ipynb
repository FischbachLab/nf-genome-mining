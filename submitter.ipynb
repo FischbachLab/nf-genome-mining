{
 "cells": [
  {
   "cell_type": "code",
   "execution_count": 25,
   "metadata": {},
   "outputs": [],
   "source": [
    "import awswrangler as wr\n",
    "import os\n",
    "import pandas as pd\n",
    "from numpy import random\n",
    "from time import sleep\n",
    "import logging\n",
    "import boto3"
   ]
  },
  {
   "cell_type": "markdown",
   "metadata": {},
   "source": [
    "## Pipeline parameters"
   ]
  },
  {
   "cell_type": "code",
   "execution_count": 26,
   "metadata": {},
   "outputs": [],
   "source": [
    "pipeline_output_path = \"s3://genomics-workflow-core/Results/GenomeMining\"\n",
    "project = \"IMG\"\n",
    "prefix = \"20220707\"\n",
    "\n",
    "seedfile_name = f\"{prefix}_seedfile.csv\"\n",
    "\n",
    "input_s3_path = \"s3://maf-versioned/GenomeMining/Genomes/IMG/\"\n",
    "file_extension = \"tar.gz\"\n",
    "\n",
    "seedfile = os.path.join(pipeline_output_path, project, prefix, seedfile_name)\n"
   ]
  },
  {
   "cell_type": "markdown",
   "metadata": {},
   "source": [
    "### Testing parameters"
   ]
  },
  {
   "cell_type": "code",
   "execution_count": 27,
   "metadata": {},
   "outputs": [],
   "source": [
    "test_project = \"00_TEST\"\n",
    "test_prefix = \"20220707-1\"\n",
    "test_seedfile_name = f\"test.{seedfile_name}\"\n",
    "test_seedfile = os.path.join(pipeline_output_path, test_project, test_prefix, test_seedfile_name)"
   ]
  },
  {
   "cell_type": "code",
   "execution_count": 4,
   "metadata": {},
   "outputs": [],
   "source": [
    "file_paths = wr.s3.list_objects(input_s3_path, file_extension)"
   ]
  },
  {
   "cell_type": "code",
   "execution_count": 28,
   "metadata": {},
   "outputs": [
    {
     "data": {
      "text/plain": [
       "78357"
      ]
     },
     "execution_count": 28,
     "metadata": {},
     "output_type": "execute_result"
    }
   ],
   "source": [
    "total_samples = len(file_paths)\n",
    "total_samples"
   ]
  },
  {
   "cell_type": "code",
   "execution_count": 29,
   "metadata": {},
   "outputs": [
    {
     "data": {
      "text/plain": [
       "array([45057, 23689, 59924])"
      ]
     },
     "execution_count": 29,
     "metadata": {},
     "output_type": "execute_result"
    }
   ],
   "source": [
    "random_idx = random.randint(0, total_samples, 3)\n",
    "random_idx\n"
   ]
  },
  {
   "cell_type": "code",
   "execution_count": 30,
   "metadata": {},
   "outputs": [
    {
     "data": {
      "text/html": [
       "<div>\n",
       "<style scoped>\n",
       "    .dataframe tbody tr th:only-of-type {\n",
       "        vertical-align: middle;\n",
       "    }\n",
       "\n",
       "    .dataframe tbody tr th {\n",
       "        vertical-align: top;\n",
       "    }\n",
       "\n",
       "    .dataframe thead th {\n",
       "        text-align: right;\n",
       "    }\n",
       "</style>\n",
       "<table border=\"1\" class=\"dataframe\">\n",
       "  <thead>\n",
       "    <tr style=\"text-align: right;\">\n",
       "      <th></th>\n",
       "      <th>genome_id</th>\n",
       "      <th>genome_path</th>\n",
       "    </tr>\n",
       "  </thead>\n",
       "  <tbody>\n",
       "    <tr>\n",
       "      <th>0</th>\n",
       "      <td>2751185790</td>\n",
       "      <td>s3://maf-versioned/GenomeMining/Genomes/IMG/27...</td>\n",
       "    </tr>\n",
       "    <tr>\n",
       "      <th>1</th>\n",
       "      <td>2630968764</td>\n",
       "      <td>s3://maf-versioned/GenomeMining/Genomes/IMG/26...</td>\n",
       "    </tr>\n",
       "    <tr>\n",
       "      <th>2</th>\n",
       "      <td>2854491577</td>\n",
       "      <td>s3://maf-versioned/GenomeMining/Genomes/IMG/28...</td>\n",
       "    </tr>\n",
       "  </tbody>\n",
       "</table>\n",
       "</div>"
      ],
      "text/plain": [
       "    genome_id                                        genome_path\n",
       "0  2751185790  s3://maf-versioned/GenomeMining/Genomes/IMG/27...\n",
       "1  2630968764  s3://maf-versioned/GenomeMining/Genomes/IMG/26...\n",
       "2  2854491577  s3://maf-versioned/GenomeMining/Genomes/IMG/28..."
      ]
     },
     "execution_count": 30,
     "metadata": {},
     "output_type": "execute_result"
    }
   ],
   "source": [
    "test_seed_df = pd.DataFrame({\n",
    "\"genome_id\" : [os.path.basename(file_paths[idx]).replace(\".tar.gz\",\"\") for idx in random_idx],\n",
    "\"genome_path\" : [file_paths[idx] for idx in random_idx]\n",
    "}).drop_duplicates()\n",
    "test_seed_df"
   ]
  },
  {
   "cell_type": "code",
   "execution_count": 31,
   "metadata": {},
   "outputs": [
    {
     "data": {
      "text/plain": [
       "{'paths': ['s3://genomics-workflow-core/Results/GenomeMining/00_TEST/20220707-1/test.20220707_seedfile.csv'],\n",
       " 'partitions_values': {}}"
      ]
     },
     "execution_count": 31,
     "metadata": {},
     "output_type": "execute_result"
    }
   ],
   "source": [
    "wr.s3.to_csv(df=test_seed_df, path=test_seedfile, index=False)"
   ]
  },
  {
   "cell_type": "code",
   "execution_count": 32,
   "metadata": {},
   "outputs": [],
   "source": [
    "def submit_batch_job(\n",
    "    project: str,\n",
    "    prefix: str,\n",
    "    seedfile: str = None,\n",
    "    genome: str = None,\n",
    "    branch: str = \"main\",\n",
    "    job_queue: str = \"priority-maf-pipelines\",\n",
    "    job_definition: str = \"nextflow-production\",\n",
    "    aws_profile: str = None,\n",
    "    dry_run: bool= False\n",
    ") -> dict:\n",
    "    \"\"\"Submit a nf-genome-mining job to AWS Batch\n",
    "\n",
    "    Args:\n",
    "        project (_str_): name of the project\n",
    "        prefix (_str_): name of the sample/batch\n",
    "        seedfile (_str_): s3 path to seedfile (incompatible with `genome`). Defaults to \"None\".\n",
    "        genome (_str_): s3 path to individual genome tarball (incompatible with `seedfile`). Defaults to \"None\".\n",
    "        branch (_str_, optional): Branch of read-profiler to use. Defaults to \"main\".\n",
    "        job_queue (_str_, optional): name of the queue for the head node. Defaults to \"priority-maf-pipelines\".\n",
    "        job_definition (_str_, optional): nextflow job definition. Doesn't usually change. Defaults to \"nextflow-production\".\n",
    "        aws_profile (_str_, optional): if a non-default aws profile should be used to submit jobs. Defaults to \"None\".\n",
    "        dry_run (_bool_, optional): don't submit the job, just print what the submission command would look like. Defaults to \"False\".\n",
    "    Returns:\n",
    "        _dict_: a response object that contains details of the job submission from AWS\n",
    "        (https://boto3.amazonaws.com/v1/documentation/api/latest/reference/services/batch.html#Batch.Client.submit_job)\n",
    "    \"\"\"\n",
    "    \n",
    "    assert not((seedfile is None) & (prefix is None)), \"Both `seedfile` and `prefix` cannot be empty\"\n",
    "\n",
    "    ## Set AWS Profile\n",
    "    if aws_profile is None:\n",
    "        s = boto3.session.Session()\n",
    "    else:\n",
    "        s = boto3.session.Session(profile_name=aws_profile)\n",
    "\n",
    "    batch = s.client(\"batch\")\n",
    "\n",
    "    # Set the pipeline flags for the analysis\n",
    "    command = [\n",
    "        \"FischbachLab/nf-genome-mining\",\n",
    "        \"-r\",\n",
    "        branch,\n",
    "        \"--project\",\n",
    "        project,\n",
    "        \"--prefix\",\n",
    "        prefix,\n",
    "    ]\n",
    "\n",
    "    ## Set Single/Pair Ended\n",
    "    if seedfile is not None:\n",
    "        command += [\"--seedfile\", seedfile]\n",
    "    elif genome is not None:\n",
    "        command += [\"--genome\", genome]\n",
    "\n",
    "    if dry_run:\n",
    "        logging.info(f\"command: \\'{' '.join(command)}\\'\")\n",
    "        return\n",
    "\n",
    "    # Submit job\n",
    "    response = batch.submit_job(\n",
    "        jobName=f\"nf-gm-{prefix}\",\n",
    "        jobQueue=job_queue,\n",
    "        jobDefinition=job_definition,\n",
    "        containerOverrides={\"command\": command},\n",
    "    )\n",
    "    return response"
   ]
  },
  {
   "cell_type": "markdown",
   "metadata": {},
   "source": [
    "## Test run"
   ]
  },
  {
   "cell_type": "code",
   "execution_count": 33,
   "metadata": {},
   "outputs": [
    {
     "data": {
      "text/plain": [
       "{'ResponseMetadata': {'RequestId': '5b600c66-5c51-4415-a813-639ef5e3b23d',\n",
       "  'HTTPStatusCode': 200,\n",
       "  'HTTPHeaders': {'date': 'Thu, 07 Jul 2022 21:28:05 GMT',\n",
       "   'content-type': 'application/json',\n",
       "   'content-length': '166',\n",
       "   'connection': 'keep-alive',\n",
       "   'x-amzn-requestid': '5b600c66-5c51-4415-a813-639ef5e3b23d',\n",
       "   'access-control-allow-origin': '*',\n",
       "   'x-amz-apigw-id': 'U6lrzEsHvHcF7-g=',\n",
       "   'access-control-expose-headers': 'X-amzn-errortype,X-amzn-requestid,X-amzn-errormessage,X-amzn-trace-id,X-amz-apigw-id,date',\n",
       "   'x-amzn-trace-id': 'Root=1-62c74fe4-573cd13b0cf40f346956e63e'},\n",
       "  'RetryAttempts': 0},\n",
       " 'jobArn': 'arn:aws:batch:us-west-2:458432034220:job/6f01b418-23bd-4bdb-b843-2af52ee7dca7',\n",
       " 'jobName': 'nf-gm-20220707-1',\n",
       " 'jobId': '6f01b418-23bd-4bdb-b843-2af52ee7dca7'}"
      ]
     },
     "execution_count": 33,
     "metadata": {},
     "output_type": "execute_result"
    }
   ],
   "source": [
    "response = submit_batch_job(project=test_project, prefix=test_prefix, seedfile=test_seedfile)\n",
    "response"
   ]
  },
  {
   "cell_type": "code",
   "execution_count": null,
   "metadata": {},
   "outputs": [],
   "source": [
    "seedfile_df = pd.DataFrame({\n",
    "    \"genome_id\" : [os.path.basename(filename).replace(\".tar.gz\",\"\") for filename in file_paths],\n",
    "    \"genome_path\" : file_paths\n",
    "}).drop_duplicates()\n",
    "\n",
    "wr.s3.to_csv(df=seedfile_df, path=seedfile, index=False)"
   ]
  }
 ],
 "metadata": {
  "kernelspec": {
   "display_name": "Python 3.7.6 ('ninjamap')",
   "language": "python",
   "name": "python3"
  },
  "language_info": {
   "codemirror_mode": {
    "name": "ipython",
    "version": 3
   },
   "file_extension": ".py",
   "mimetype": "text/x-python",
   "name": "python",
   "nbconvert_exporter": "python",
   "pygments_lexer": "ipython3",
   "version": "3.7.6"
  },
  "orig_nbformat": 4,
  "vscode": {
   "interpreter": {
    "hash": "bd4defac969a79ecc793d71ba9ba8c28a86ddf365d5c417e3d94d6b92e926fbc"
   }
  }
 },
 "nbformat": 4,
 "nbformat_minor": 2
}
