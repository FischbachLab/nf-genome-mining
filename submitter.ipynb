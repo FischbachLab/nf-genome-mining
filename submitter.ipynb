{
 "cells": [
  {
   "cell_type": "code",
   "execution_count": 2,
   "metadata": {},
   "outputs": [],
   "source": [
    "import awswrangler as wr\n",
    "import os\n",
    "import pandas as pd"
   ]
  },
  {
   "cell_type": "markdown",
   "metadata": {},
   "source": [
    "## Pipeline parameters"
   ]
  },
  {
   "cell_type": "code",
   "execution_count": 3,
   "metadata": {},
   "outputs": [],
   "source": [
    "pipeline_output_path = \"s3://genomics-workflow-core/Results/GenomeMining\"\n",
    "project = \"IMG\"\n",
    "prefix = \"20220707\"\n",
    "seedfile_name = \"test_seedfile.csv\"\n",
    "\n",
    "input_s3_path = \"s3://maf-versioned/GenomeMining/Genomes/IMG/\"\n",
    "file_extension = \"tar.gz\"\n",
    "\n",
    "seedfile = os.path.join(pipeline_output_path, project, prefix, seedfile_name)"
   ]
  },
  {
   "cell_type": "code",
   "execution_count": 4,
   "metadata": {},
   "outputs": [],
   "source": [
    "file_paths = wr.s3.list_objects(input_s3_path, file_extension)"
   ]
  },
  {
   "cell_type": "code",
   "execution_count": 5,
   "metadata": {},
   "outputs": [
    {
     "data": {
      "text/plain": [
       "78357"
      ]
     },
     "execution_count": 5,
     "metadata": {},
     "output_type": "execute_result"
    }
   ],
   "source": [
    "len(file_paths)"
   ]
  },
  {
   "cell_type": "code",
   "execution_count": 6,
   "metadata": {},
   "outputs": [
    {
     "data": {
      "text/plain": [
       "['s3://maf-versioned/GenomeMining/Genomes/IMG/2022827000.tar.gz',\n",
       " 's3://maf-versioned/GenomeMining/Genomes/IMG/2040502012.tar.gz',\n",
       " 's3://maf-versioned/GenomeMining/Genomes/IMG/2140918011.tar.gz',\n",
       " 's3://maf-versioned/GenomeMining/Genomes/IMG/2228664006.tar.gz',\n",
       " 's3://maf-versioned/GenomeMining/Genomes/IMG/2228664007.tar.gz']"
      ]
     },
     "execution_count": 6,
     "metadata": {},
     "output_type": "execute_result"
    }
   ],
   "source": [
    "file_paths_test = file_paths[:5]\n",
    "file_paths_test"
   ]
  },
  {
   "cell_type": "code",
   "execution_count": 7,
   "metadata": {},
   "outputs": [
    {
     "data": {
      "text/plain": [
       "{'paths': ['s3://genomics-workflow-core/Results/GenomeMining/IMG/20220707/test_seedfile.csv'],\n",
       " 'partitions_values': {}}"
      ]
     },
     "execution_count": 7,
     "metadata": {},
     "output_type": "execute_result"
    }
   ],
   "source": [
    "seedfile_df = pd.DataFrame({\n",
    "\"genome_id\" : [os.path.basename(filename).replace(\".tar.gz\",\"\") for filename in file_paths_test],\n",
    "\"genome_path\" : file_paths_test\n",
    "})\n",
    "\n",
    "wr.s3.to_csv(df=seedfile_df, path=seedfile, index=False)"
   ]
  },
  {
   "cell_type": "code",
   "execution_count": null,
   "metadata": {},
   "outputs": [],
   "source": [
    "def submit_batch_job(\n",
    "    project: str,\n",
    "    prefix: str,\n",
    "    seedfile: str = None,\n",
    "    genome: str = None,\n",
    "    branch: str = \"main\",\n",
    "    job_queue: str = \"priority-maf-pipelines\",\n",
    "    job_definition: str = \"nextflow-production\",\n",
    "    aws_profile: str = None,\n",
    "    dry_run: bool= False\n",
    ") -> dict:\n",
    "    \"\"\"Submit a nf-genome-mining job to AWS Batch\n",
    "\n",
    "    Args:\n",
    "        project (_str_): name of the project\n",
    "        prefix (_str_): name of the sample/batch\n",
    "        seedfile (_str_): s3 path to seedfile (incompatible with genome). Defaults to \"None\".\n",
    "        genome (_str_): s3 path to individual genome tarball (incompatible with seedfile). Defaults to \"None\".\n",
    "        branch (_str_, optional): Branch of read-profiler to use. Defaults to \"main\".\n",
    "        job_queue (_str_, optional): name of the queue for the head node. Defaults to \"priority-maf-pipelines\".\n",
    "        job_definition (_str_, optional): nextflow job definition. Doesn't usually change. Defaults to \"nextflow-production\".\n",
    "        aws_profile (_str_, optional): if a non-default aws profile should be used to submit jobs. Defaults to \"None\".\n",
    "        dry_run (_bool_, optional): don't submit the job, just print what the submission command would look like. Defaults to \"False\".\n",
    "    Returns:\n",
    "        _dict_: a response object that contains details of the job submission from AWS\n",
    "        (https://boto3.amazonaws.com/v1/documentation/api/latest/reference/services/batch.html#Batch.Client.submit_job)\n",
    "    \"\"\"\n",
    "    \n",
    "    assert (!(seedfile is None) & (prefix is None)), \"Both `seedfile` and `prefix` cannot be empty\"\n",
    "\n",
    "    ## Set AWS Profile\n",
    "    if aws_profile is None:\n",
    "        s = boto3.session.Session()\n",
    "    else:\n",
    "        s = boto3.session.Session(profile_name=aws_profile)\n",
    "\n",
    "    batch = s.client(\"batch\")\n",
    "\n",
    "    # Set the pipeline flags for the analysis\n",
    "    command = [\n",
    "        \"FischbachLab/nf-genome-mining\",\n",
    "        \"-r\",\n",
    "        branch,\n",
    "        \"--project\",\n",
    "        project,\n",
    "        \"--prefix\",\n",
    "        prefix,\n",
    "    ]\n",
    "\n",
    "    ## Set Single/Pair Ended\n",
    "    if seedfile is not None:\n",
    "        command += [\"--seedfile\", seedfile]\n",
    "    elif genome is not None:\n",
    "        command += [\"--genome\", genome]\n",
    "\n",
    "    if dry_run:\n",
    "        logging.info(f\"command: \\'{' '.join(command)}\\'\")\n",
    "        return\n",
    "\n",
    "    # Submit job\n",
    "    response = batch.submit_job(\n",
    "        jobName=f\"nf-gm-{project}\",\n",
    "        jobQueue=job_queue,\n",
    "        jobDefinition=job_definition,\n",
    "        containerOverrides={\"command\": command},\n",
    "    )\n",
    "    return response"
   ]
  }
 ],
 "metadata": {
  "kernelspec": {
   "display_name": "Python 3.7.6 ('ninjamap')",
   "language": "python",
   "name": "python3"
  },
  "language_info": {
   "codemirror_mode": {
    "name": "ipython",
    "version": 3
   },
   "file_extension": ".py",
   "mimetype": "text/x-python",
   "name": "python",
   "nbconvert_exporter": "python",
   "pygments_lexer": "ipython3",
   "version": "3.7.6"
  },
  "orig_nbformat": 4,
  "vscode": {
   "interpreter": {
    "hash": "bd4defac969a79ecc793d71ba9ba8c28a86ddf365d5c417e3d94d6b92e926fbc"
   }
  }
 },
 "nbformat": 4,
 "nbformat_minor": 2
}
